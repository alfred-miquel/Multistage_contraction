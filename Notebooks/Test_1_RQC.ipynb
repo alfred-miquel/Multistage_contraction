{
 "cells": [
  {
   "cell_type": "markdown",
   "id": "1b7aa469",
   "metadata": {},
   "source": [
    "# Random Quantum Circuits (RQC). Tensor Network Analysis\n",
    "\n",
    "This notebook demonstrates the creation, sequential contraction, and parallel contraction of a RQC circuit using various algorithms such as Girvan–Newman and FlowCutter.\n",
    "\n",
    "---\n",
    "\n"
   ]
  },
  {
   "cell_type": "markdown",
   "id": "1c2a6516-120c-4af4-aadd-74eec24fb04e",
   "metadata": {},
   "source": [
    "## Step 0: Loading software"
   ]
  },
  {
   "cell_type": "markdown",
   "id": "b48b1121-2e64-4a5f-acd1-cc63acc64bad",
   "metadata": {
    "tags": []
   },
   "source": [
    " First of all, we create a new project to load all the neccesary software"
   ]
  },
  {
   "cell_type": "code",
   "execution_count": 1,
   "id": "c9139643-61d6-4fda-97cc-2d437f117eec",
   "metadata": {
    "tags": []
   },
   "outputs": [
    {
     "name": "stderr",
     "output_type": "stream",
     "text": [
      "\u001b[32m\u001b[1m  Activating\u001b[22m\u001b[39m project at `C:\\Users\\Usuario\\OneDrive\\Escriptori\\anaconda_blogs\\agost_2023\\Novembre_desembre_2024\\GitHub_resum_article_Costa_Ballena\\New_Project_on_QXTools`\n"
     ]
    }
   ],
   "source": [
    "] activate New_Project_on_QXTools;"
   ]
  },
  {
   "cell_type": "code",
   "execution_count": 1,
   "id": "11de2394",
   "metadata": {
    "collapsed": true,
    "jupyter": {
     "outputs_hidden": true
    },
    "tags": []
   },
   "outputs": [
    {
     "name": "stderr",
     "output_type": "stream",
     "text": [
      "\u001b[32m\u001b[1m   Resolving\u001b[22m\u001b[39m package versions...\n",
      "\u001b[32m\u001b[1m    Updating\u001b[22m\u001b[39m `C:\\Users\\Usuario\\.julia\\environments\\v1.9\\Project.toml`\n",
      "  \u001b[90m[84f0eee1] \u001b[39m\u001b[92m+ QXTools v1.0.0\u001b[39m\n",
      "\u001b[32m\u001b[1m    Updating\u001b[22m\u001b[39m `C:\\Users\\Usuario\\.julia\\environments\\v1.9\\Manifest.toml`\n",
      "  \u001b[90m[84f0eee1] \u001b[39m\u001b[92m+ QXTools v1.0.0\u001b[39m\n",
      "\u001b[33m⌅\u001b[39m \u001b[90m[6aa20fa7] \u001b[39m\u001b[92m+ TensorOperations v3.2.5\u001b[39m\n",
      "\u001b[36m\u001b[1m        Info\u001b[22m\u001b[39m Packages marked with \u001b[33m⌅\u001b[39m have new versions available but compatibility constraints restrict them from upgrading. To see why use `status --outdated -m`\n",
      "\u001b[32m\u001b[1mPrecompiling\u001b[22m\u001b[39m project...\n",
      "\u001b[32m  ✓ \u001b[39m\u001b[90mGeometryBasics\u001b[39m\n",
      "\u001b[32m  ✓ \u001b[39mQXTools\n",
      "\u001b[32m  ✓ \u001b[39m\u001b[90mNetworkLayout\u001b[39m\n",
      "\u001b[32m  ✓ \u001b[39mGraphRecipes\n",
      "  4 dependencies successfully precompiled in 46 seconds. 263 already precompiled. 1 skipped during auto due to previous errors.\n",
      "\u001b[32m\u001b[1m   Resolving\u001b[22m\u001b[39m package versions...\n",
      "\u001b[32m\u001b[1m  No Changes\u001b[22m\u001b[39m to `C:\\Users\\Usuario\\.julia\\environments\\v1.9\\Project.toml`\n",
      "\u001b[32m\u001b[1m  No Changes\u001b[22m\u001b[39m to `C:\\Users\\Usuario\\.julia\\environments\\v1.9\\Manifest.toml`\n",
      "\u001b[32m\u001b[1m   Resolving\u001b[22m\u001b[39m package versions...\n",
      "\u001b[32m\u001b[1m  No Changes\u001b[22m\u001b[39m to `C:\\Users\\Usuario\\.julia\\environments\\v1.9\\Project.toml`\n",
      "\u001b[32m\u001b[1m  No Changes\u001b[22m\u001b[39m to `C:\\Users\\Usuario\\.julia\\environments\\v1.9\\Manifest.toml`\n",
      "\u001b[32m\u001b[1m   Resolving\u001b[22m\u001b[39m package versions...\n",
      "\u001b[32m\u001b[1m    Updating\u001b[22m\u001b[39m `C:\\Users\\Usuario\\.julia\\environments\\v1.9\\Project.toml`\n",
      "  \u001b[90m[864edb3b] \u001b[39m\u001b[92m+ DataStructures v0.18.20\u001b[39m\n",
      "\u001b[32m\u001b[1m    Updating\u001b[22m\u001b[39m `C:\\Users\\Usuario\\.julia\\environments\\v1.9\\Manifest.toml`\n",
      "  \u001b[90m[864edb3b] \u001b[39m\u001b[93m↑ DataStructures v0.18.18 ⇒ v0.18.20\u001b[39m\n",
      "\u001b[32m\u001b[1mPrecompiling\u001b[22m\u001b[39m project...\n",
      "\u001b[32m  ✓ \u001b[39m\u001b[90mSortingAlgorithms\u001b[39m\n",
      "\u001b[32m  ✓ \u001b[39m\u001b[90mPickle\u001b[39m\n",
      "\u001b[32m  ✓ \u001b[39mQXZoo\n",
      "\u001b[32m  ✓ \u001b[39m\u001b[90mLightGraphs\u001b[39m\n",
      "\u001b[32m  ✓ \u001b[39mQXTns\n",
      "\u001b[32m  ✓ \u001b[39m\u001b[90mBytePairEncoding\u001b[39m\n",
      "\u001b[32m  ✓ \u001b[39mQXContexts\n",
      "\u001b[32m  ✓ \u001b[39mQXGraphDecompositions\n",
      "\u001b[32m  ✓ \u001b[39m\u001b[90mStatsBase\u001b[39m\n",
      "\u001b[32m  ✓ \u001b[39mGraphRecipes\n",
      "\u001b[32m  ✓ \u001b[39m\u001b[90mClustering\u001b[39m\n",
      "\u001b[32m  ✓ \u001b[39mCommunityDetection\n",
      "\u001b[32m  ✓ \u001b[39mQXTools\n",
      "\u001b[32m  ✓ \u001b[39m\u001b[90mMLUtils\u001b[39m\n",
      "\u001b[32m  ✓ \u001b[39m\u001b[90mOneHotArrays\u001b[39m\n",
      "\u001b[32m  ✓ \u001b[39m\u001b[90mFlux\u001b[39m\n",
      "\u001b[32m  ✓ \u001b[39mTransformers\n",
      "  17 dependencies successfully precompiled in 108 seconds. 250 already precompiled. 1 skipped during auto due to previous errors.\n",
      "\u001b[32m\u001b[1m   Resolving\u001b[22m\u001b[39m package versions...\n",
      "\u001b[32m\u001b[1m  No Changes\u001b[22m\u001b[39m to `C:\\Users\\Usuario\\.julia\\environments\\v1.9\\Project.toml`\n",
      "\u001b[32m\u001b[1m  No Changes\u001b[22m\u001b[39m to `C:\\Users\\Usuario\\.julia\\environments\\v1.9\\Manifest.toml`\n",
      "\u001b[32m\u001b[1m   Resolving\u001b[22m\u001b[39m package versions...\n",
      "\u001b[32m\u001b[1m    Updating\u001b[22m\u001b[39m `C:\\Users\\Usuario\\.julia\\environments\\v1.9\\Project.toml`\n",
      "\u001b[33m⌅\u001b[39m \u001b[90m[23ae76d9] \u001b[39m\u001b[92m+ NDTensors v0.1.28\u001b[39m\n",
      "\u001b[32m\u001b[1m  No Changes\u001b[22m\u001b[39m to `C:\\Users\\Usuario\\.julia\\environments\\v1.9\\Manifest.toml`\n",
      "\u001b[32m\u001b[1m   Resolving\u001b[22m\u001b[39m package versions...\n",
      "\u001b[32m\u001b[1m  No Changes\u001b[22m\u001b[39m to `C:\\Users\\Usuario\\.julia\\environments\\v1.9\\Project.toml`\n",
      "\u001b[32m\u001b[1m  No Changes\u001b[22m\u001b[39m to `C:\\Users\\Usuario\\.julia\\environments\\v1.9\\Manifest.toml`\n",
      "\u001b[32m\u001b[1m   Resolving\u001b[22m\u001b[39m package versions...\n",
      "\u001b[32m\u001b[1m    Updating\u001b[22m\u001b[39m `C:\\Users\\Usuario\\.julia\\environments\\v1.9\\Project.toml`\n",
      "  \u001b[90m[093fc24a] \u001b[39m\u001b[92m+ LightGraphs v1.3.5\u001b[39m\n",
      "\u001b[32m\u001b[1m  No Changes\u001b[22m\u001b[39m to `C:\\Users\\Usuario\\.julia\\environments\\v1.9\\Manifest.toml`\n",
      "\u001b[32m\u001b[1m   Resolving\u001b[22m\u001b[39m package versions...\n",
      "\u001b[32m\u001b[1m  No Changes\u001b[22m\u001b[39m to `C:\\Users\\Usuario\\.julia\\environments\\v1.9\\Project.toml`\n",
      "\u001b[32m\u001b[1m  No Changes\u001b[22m\u001b[39m to `C:\\Users\\Usuario\\.julia\\environments\\v1.9\\Manifest.toml`\n",
      "WARNING: method definition for asarray at C:\\Users\\Usuario\\.julia\\packages\\OMEinsum\\0C2IK\\src\\cueinsum.jl:8 declares type variable T but does not use it.\n",
      "WARNING: method definition for expanddims! at C:\\Users\\Usuario\\.julia\\packages\\OMEinsum\\0C2IK\\src\\cueinsum.jl:67 declares type variable LT but does not use it.\n",
      "\u001b[36m\u001b[1m[ \u001b[22m\u001b[39m\u001b[36m\u001b[1mInfo: \u001b[22m\u001b[39mOMEinsum loaded the CUDA module successfully\n"
     ]
    }
   ],
   "source": [
    "import Pkg; \n",
    "Pkg.add(\"QXTools\")\n",
    "Pkg.add(\"QXGraphDecompositions\")\n",
    "Pkg.add(\"QXZoo\")\n",
    "Pkg.add(\"DataStructures\")\n",
    "Pkg.add(\"QXTns\")\n",
    "Pkg.add(\"NDTensors\")\n",
    "Pkg.add(\"ITensors\")\n",
    "Pkg.add(\"LightGraphs\")\n",
    "Pkg.add(\"PyCall\")\n",
    "\n",
    "\n"
   ]
  },
  {
   "cell_type": "code",
   "execution_count": 2,
   "id": "9dd7f933-304e-465b-a810-e5d092e8a197",
   "metadata": {
    "tags": []
   },
   "outputs": [
    {
     "name": "stderr",
     "output_type": "stream",
     "text": [
      "WARNING: method definition for asarray at C:\\Users\\Usuario\\.julia\\packages\\OMEinsum\\0C2IK\\src\\cueinsum.jl:8 declares type variable T but does not use it.\n",
      "WARNING: method definition for expanddims! at C:\\Users\\Usuario\\.julia\\packages\\OMEinsum\\0C2IK\\src\\cueinsum.jl:67 declares type variable LT but does not use it.\n",
      "\u001b[36m\u001b[1m[ \u001b[22m\u001b[39m\u001b[36m\u001b[1mInfo: \u001b[22m\u001b[39mOMEinsum loaded the CUDA module successfully\n"
     ]
    }
   ],
   "source": [
    "using QXTools\n",
    "using QXTns\n",
    "using QXZoo\n",
    "using PyCall\n",
    "using QXGraphDecompositions\n",
    "using LightGraphs\n",
    "using DataStructures\n",
    "using TimerOutputs\n",
    "using ITensors\n",
    "using LinearAlgebra\n",
    "using NDTensors\n"
   ]
  },
  {
   "cell_type": "code",
   "execution_count": 3,
   "id": "ce4a84e9-c95e-41b6-a1fb-1c7ac55fa224",
   "metadata": {
    "tags": []
   },
   "outputs": [
    {
     "data": {
      "text/plain": [
       "ComParCPU_para_GHZ"
      ]
     },
     "execution_count": 3,
     "metadata": {},
     "output_type": "execute_result"
    }
   ],
   "source": [
    "# Load custom functions\n",
    "include(\"funcions_article.jl\")"
   ]
  },
  {
   "cell_type": "markdown",
   "id": "079a721e-af4f-4905-81d8-81b4932352fc",
   "metadata": {},
   "source": [
    "## Step 1: Create a Random Quantum Circuit\n",
    "We begin by creating a RQC circuit based on the user-defined number of qubits."
   ]
  },
  {
   "cell_type": "code",
   "execution_count": 4,
   "id": "28f768ac-85db-406f-885f-b9efa261a434",
   "metadata": {
    "tags": []
   },
   "outputs": [
    {
     "name": "stderr",
     "output_type": "stream",
     "text": [
      "\u001b[36m\u001b[1m┌ \u001b[22m\u001b[39m\u001b[36m\u001b[1mInfo: \u001b[22m\u001b[39mHow many qubits do you want for the RQC circuit(n)?\n",
      "\u001b[36m\u001b[1m└ \u001b[22m\u001b[39m\n"
     ]
    },
    {
     "name": "stdin",
     "output_type": "stream",
     "text": [
      "stdin>  5\n"
     ]
    },
    {
     "name": "stderr",
     "output_type": "stream",
     "text": [
      "\u001b[36m\u001b[1m┌ \u001b[22m\u001b[39m\u001b[36m\u001b[1mInfo: \u001b[22m\u001b[39mHow deep do you want for the RQC circuit(d)?\n",
      "\u001b[36m\u001b[1m└ \u001b[22m\u001b[39m\n"
     ]
    },
    {
     "name": "stdin",
     "output_type": "stream",
     "text": [
      "stdin>  16\n"
     ]
    },
    {
     "name": "stderr",
     "output_type": "stream",
     "text": [
      "\u001b[36m\u001b[1m┌ \u001b[22m\u001b[39m\u001b[36m\u001b[1mInfo: \u001b[22m\u001b[39mGive us a seed as a positive number, please.(seed)?\n",
      "\u001b[36m\u001b[1m└ \u001b[22m\u001b[39m\n"
     ]
    },
    {
     "name": "stdin",
     "output_type": "stream",
     "text": [
      "stdin>  41\n"
     ]
    },
    {
     "name": "stderr",
     "output_type": "stream",
     "text": [
      "\u001b[36m\u001b[1m┌ \u001b[22m\u001b[39m\u001b[36m\u001b[1mInfo: \u001b[22m\u001b[39m circuit RQC 5_5_16 created\n",
      "\u001b[36m\u001b[1m└ \u001b[22m\u001b[39m\n"
     ]
    },
    {
     "data": {
      "text/plain": [
       "TensorNetworkCircuit(qubits => 25, gates => 382)"
      ]
     },
     "execution_count": 4,
     "metadata": {},
     "output_type": "execute_result"
    }
   ],
   "source": [
    "# --- Step 1: Randdom Quantum Circuit (RQC) Creation ---\n",
    "       @info(\"How many qubits (n) do you want for the RQC circuit(nxn)?\\n\\n\")\n",
    "       \n",
    "              N = readline() \n",
    "              n = parse(Int, N)\n",
    "      \n",
    "       @info(\"How deep do you want for the RQC circuit(d)?\\n\\n\")\n",
    "             N = readline()   \n",
    "            d = parse(Int, N)\n",
    "\n",
    "       \n",
    "       @info(\"Give us a seed as a positive number, please.(seed)?\\n\\n\")\n",
    "         N = readline()  \n",
    "       seed = parse(Int, N)\n",
    "        # Create RQC circuit\n",
    "       cct = create_rqc_circuit(n, n, d, seed, final_h=true)\n",
    "       @info(\" circuit RQC $(n)_$(n)_$(d) created\\n\\n\")\n",
    "     tnc = convert_to_tnc(cct)  # Convert the RQC circuit into a tensor network circuit\n",
    "\n"
   ]
  },
  {
   "cell_type": "markdown",
   "id": "2f5bd173",
   "metadata": {},
   "source": [
    "---\n",
    "\n",
    "## Step 2: Sequential Contraction Using Girvan-Newman\n",
    "We perform sequential contraction of the tensor network using the Girvan–Newman algorithm to get a contraction order."
   ]
  },
  {
   "cell_type": "code",
   "execution_count": 5,
   "id": "66bb4f77",
   "metadata": {
    "tags": []
   },
   "outputs": [
    {
     "name": "stdout",
     "output_type": "stream",
     "text": [
      "\u001b[0m\u001b[1m────────────────────────────────────────────────────────────────────────────────\u001b[22m\n",
      "\u001b[0m\u001b[1m                              \u001b[22m         Time                    Allocations      \n",
      "                              ───────────────────────   ────────────────────────\n",
      "      Tot / % measured:            40.4s /  98.5%           1.65GiB /  98.9%    \n",
      "\n",
      "Section               ncalls     time    %tot     avg     alloc    %tot      avg\n",
      "────────────────────────────────────────────────────────────────────────────────\n",
      "3T. Final contraction      1    36.6s   91.8%   36.6s   1.60GiB   98.1%  1.60GiB\n",
      "2T. Getting GN plan        1    2.92s    7.3%   2.92s   20.6MiB    1.2%  20.6MiB\n",
      "1T. Obtaining a li...      1    343ms    0.9%   343ms   11.6MiB    0.7%  11.6MiB\n",
      "\u001b[0m\u001b[1m────────────────────────────────────────────────────────────────────────────────\u001b[22m\n",
      "Sequential contraction result: fill(8.279270506004239e-5 + 0.00019549339310625166im)\n"
     ]
    }
   ],
   "source": [
    "# --- Step 2: Sequential Contraction using Girvan-Newman ---\n",
    "s1 = Calcul_GN_Sequencial(cct, true)  # Perform sequential contraction\n",
    "println(\"Sequential contraction result: \", s1)"
   ]
  },
  {
   "cell_type": "markdown",
   "id": "c3c3ebec",
   "metadata": {},
   "source": [
    "---\n",
    "\n",
    "## Step 3: Compare Results Using Another Contraction Plan\n",
    "Here, we utilize FlowCutter to generate an alternative contraction plan and compare results."
   ]
  },
  {
   "cell_type": "code",
   "execution_count": 6,
   "id": "18de83c4",
   "metadata": {
    "tags": []
   },
   "outputs": [
    {
     "name": "stdout",
     "output_type": "stream",
     "text": [
      "QXTools.single_amplitude(tnc, plan, eixida) = 8.279270506004228e-5 + 0.00019549339310625212im\n",
      "QXTools.single_amplitude(tnc, plan, eixida) = 0.0002193631072679166 - 0.00019493831516731157im\n",
      "QXTools.single_amplitude(tnc, plan, eixida) = 4.038086519460528e-5 + 0.0001228024818678554im\n",
      "Contraction result using FlowCutter plan: fill(8.279270506004228e-5 + 0.00019549339310625212im)\n",
      "Do the results match? true\n"
     ]
    }
   ],
   "source": [
    "# --- Step 3: Compare with Another Plan ---\n",
    "using QXTools\n",
    "using QXTools.Circuits\n",
    "\n",
    "# Find a good contraction plan using FlowCutter\n",
    "plan = flow_cutter_contraction_plan(tnc; time=10)\n",
    "\n",
    "num_qubits = cct.num_qubits\n",
    "\n",
    "# Output states\n",
    "outputs = [\"0\" ^ num_qubits, \"1\" ^ num_qubits, \"1\" ^ (num_qubits - 2) * \"01\"]\n",
    "eixida = outputs[1]  # Select the first output as the target\n",
    "\n",
    "# Evaluate the probability amplitude for different outputs\n",
    "\n",
    "@show QXTools.single_amplitude(tnc, plan, eixida)\n",
    "eixida = outputs[2]  # Select the second output\n",
    "@show QXTools.single_amplitude(tnc, plan, eixida)\n",
    "eixida = outputs[3]  # Select the third output\n",
    "@show QXTools.single_amplitude(tnc, plan, eixida)\n",
    "\n",
    "# Perform tensor network contraction using the plan\n",
    "s = contract_tn!(tnc.tn, plan)\n",
    "println(\"Contraction result using FlowCutter plan: \", s)\n",
    "\n",
    "# Compare results\n",
    "println(\"Do the results match? \", s1 ≈ s)"
   ]
  },
  {
   "cell_type": "markdown",
   "id": "36777726",
   "metadata": {},
   "source": [
    "---\n",
    "\n",
    "## Step 4: Parallel Contraction Using ComPar\n",
    "Finally, we use ComPar algorithms for parallel contraction."
   ]
  },
  {
   "cell_type": "code",
   "execution_count": 7,
   "id": "151df3f2",
   "metadata": {
    "tags": []
   },
   "outputs": [
    {
     "name": "stdout",
     "output_type": "stream",
     "text": [
      "Using 8 communities for contraction.\n"
     ]
    }
   ],
   "source": [
    "# --- Step 4: Parallel Contraction using ComPar ---\n",
    "# Define input and output states\n",
    "num_qubits = cct.num_qubits\n",
    "entrada = \"0\" ^ num_qubits\n",
    "\n",
    "# Output states\n",
    "outputs = [\"0\" ^ num_qubits, \"1\" ^ num_qubits, \"1\" ^ (num_qubits - 2) * \"01\"]\n",
    "eixida = outputs[1]  # Select the first output as the target\n",
    "\n",
    "n_com = 8  # Number of communities for the contraction\n",
    "println(\"Using $n_com communities for contraction.\")\n",
    "\n"
   ]
  },
  {
   "cell_type": "code",
   "execution_count": 8,
   "id": "8b62f947-5cd9-4789-a8ff-c3323cea3256",
   "metadata": {
    "tags": []
   },
   "outputs": [
    {
     "name": "stdout",
     "output_type": "stream",
     "text": [
      "\u001b[0m\u001b[1m────────────────────────────────────────────────────────────────────────────────\u001b[22m\n",
      "\u001b[0m\u001b[1m                              \u001b[22m         Time                    Allocations      \n",
      "                              ───────────────────────   ────────────────────────\n",
      "      Tot / % measured:            2.17s / 100.0%            131MiB / 100.0%    \n",
      "\n",
      "Section               ncalls     time    %tot     avg     alloc    %tot      avg\n",
      "────────────────────────────────────────────────────────────────────────────────\n",
      "2T.Parallel contra...      1    747ms   34.4%   747ms   84.9MiB   64.9%  84.9MiB\n",
      "1T.Obtaining Commu...      1    722ms   33.3%   722ms   21.3MiB   16.3%  21.3MiB\n",
      "3T.Final Contraction       1    700ms   32.3%   700ms   24.6MiB   18.8%  24.6MiB\n",
      "\u001b[0m\u001b[1m────────────────────────────────────────────────────────────────────────────────\u001b[22m\n",
      "Contraction result using ComParCPU: fill(8.279270506004228e-5 + 0.00019549339310625212im)\n"
     ]
    }
   ],
   "source": [
    "# Perform contraction using ComParCPU\n",
    "s2 = ComParCPU(cct, entrada, eixida, n_com; timings=true, decompose=true)\n",
    "println(\"Contraction result using ComParCPU: \", s)"
   ]
  },
  {
   "cell_type": "code",
   "execution_count": 9,
   "id": "d0402d5c-e673-4d80-b121-a5379fdf7dc6",
   "metadata": {
    "tags": []
   },
   "outputs": [
    {
     "name": "stdout",
     "output_type": "stream",
     "text": [
      "\u001b[0m\u001b[1m────────────────────────────────────────────────────────────────────────────────\u001b[22m\n",
      "\u001b[0m\u001b[1m                              \u001b[22m         Time                    Allocations      \n",
      "                              ───────────────────────   ────────────────────────\n",
      "      Tot / % measured:            612ms / 100.0%           78.1MiB / 100.0%    \n",
      "\n",
      "Section               ncalls     time    %tot     avg     alloc    %tot      avg\n",
      "────────────────────────────────────────────────────────────────────────────────\n",
      "1T.Obtaining Commu...      1    291ms   47.5%   291ms   4.12MiB    5.3%  4.12MiB\n",
      "2T.Parallel contra...      1    182ms   29.7%   182ms   68.3MiB   87.5%  68.3MiB\n",
      "3T.Final contracti...      1    139ms   22.8%   139ms   5.67MiB    7.3%  5.67MiB\n",
      "\u001b[0m\u001b[1m────────────────────────────────────────────────────────────────────────────────\u001b[22m\n",
      "Contraction result using ComParCPU_para: fill(8.279270506004232e-5 + 0.00019549339310625158im)\n"
     ]
    }
   ],
   "source": [
    "# Perform contraction using ComParCPU_para\n",
    "s_para = ComParCPU_para(cct, entrada, eixida, n_com; timings=true, decompose=true)\n",
    "println(\"Contraction result using ComParCPU_para: \", s_para)"
   ]
  },
  {
   "cell_type": "code",
   "execution_count": 10,
   "id": "b23df227-3741-48d8-9023-a641482544cc",
   "metadata": {
    "tags": []
   },
   "outputs": [
    {
     "name": "stdout",
     "output_type": "stream",
     "text": [
      "Do all the results match? true\n"
     ]
    }
   ],
   "source": [
    "# Compare results\n",
    "println(\"Do all the results match? \", s1 ≈ s≈ s2 ≈ s_para)"
   ]
  },
  {
   "cell_type": "markdown",
   "id": "87553cee",
   "metadata": {},
   "source": [
    "---\n",
    "\n",
    "### Summary\n",
    "This notebook demonstrated:\n",
    "1. The creation of a RQC tensor network.\n",
    "2. Sequential contraction using the Girvan–Newman algorithm.\n",
    "3. Alternative contraction using FlowCutter.\n",
    "4. Parallel contraction with ComParCPU and ComParCPU_para.\n",
    "\n",
    "Thank you for exploring tensor network contraction with us!"
   ]
  },
  {
   "cell_type": "code",
   "execution_count": null,
   "id": "d8c49d75-a99f-4d65-ba6c-babff6cdc0a4",
   "metadata": {},
   "outputs": [],
   "source": []
  }
 ],
 "metadata": {
  "kernelspec": {
   "display_name": "Julia 12 Threads 1.9.2",
   "language": "julia",
   "name": "julia-12-threads-1.9"
  },
  "language_info": {
   "file_extension": ".jl",
   "mimetype": "application/julia",
   "name": "julia",
   "version": "1.9.2"
  }
 },
 "nbformat": 4,
 "nbformat_minor": 5
}
